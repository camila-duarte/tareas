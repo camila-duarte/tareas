{
 "cells": [
  {
   "attachments": {},
   "cell_type": "markdown",
   "metadata": {},
   "source": [
    "# Ejercicio 1\n",
    "\n",
    "* dx/dt = (2t - x)^2\n",
    "  \n",
    "* valor inicial: x(0) = 2\n",
    "  \n",
    "* aproximar a dt_1 = 0.5 y dt_2 = 0.1"
   ]
  },
  {
   "cell_type": "code",
   "execution_count": null,
   "metadata": {},
   "outputs": [],
   "source": [
    "import matplotlib.pyplot as plt\n",
    "\n",
    "# Listas para la grafica de dt_1\n",
    "x1_axis = []\n",
    "y1_axis = []\n",
    "\n",
    "# Listas para la grafica de dt_2\n",
    "x2_axis = []\n",
    "y2_axis = []\n",
    "\n",
    "# Valores de dt dados en el ejercicio\n",
    "dt_1 = 0.5\n",
    "dt_2 = 0.1\n",
    "\n",
    "# Valor inicial\n",
    "x_1 = 2\n",
    "x_2 = 2\n",
    "\n",
    "# Tiempo inicial\n",
    "t_1 = 0\n",
    "t_2 = 0\n",
    "\n",
    "\n",
    "for contador in range(10):\n",
    "\n",
    "    # Para dt = 0.5\n",
    "    x1_axis.append(t_1)\n",
    "    y1_axis.append(x_1)\n",
    "    x_1 = x_1 + dt_1*(t_1 - x_1)\n",
    "    t_1 = t_1 + dt_1\n",
    "\n",
    "    # En caso de querer ver los resultados:\n",
    "    # print(x_1)\n",
    "    # print(t_1)\n",
    "\n",
    "\n",
    "    # Para dt = 0.1\n",
    "    x2_axis.append(t_2)\n",
    "    y2_axis.append(x_2)\n",
    "    x_2 = x_2 + dt_1*(t_2- x_2)\n",
    "    t_2 = t_2 + dt_2\n",
    "    contador = contador + 0.1\n",
    "\n",
    "    # En caso de querer ver los resultados:\n",
    "    # print(x_2)\n",
    "    # print(t_2)\n",
    "\n",
    "plt.xlabel(\"Tiempo\")\n",
    "plt.ylabel(\"x(t)\")\n",
    "plt.plot(x1_axis, y1_axis,x2_axis, y2_axis)\n",
    "plt.show()"
   ]
  },
  {
   "attachments": {},
   "cell_type": "markdown",
   "metadata": {},
   "source": [
    "# Ejercicio 2\n",
    "\n",
    "* dx/dt = t - x\n",
    "\n",
    "* valor inicial: x(0) = 1\n",
    "\n",
    "* Aproximar dt con: dt = {1,1/2,1/4,1/8}\n",
    "\n",
    "* Describir el comportamiento del error para cada dt"
   ]
  },
  {
   "cell_type": "code",
   "execution_count": null,
   "metadata": {},
   "outputs": [],
   "source": []
  }
 ],
 "metadata": {
  "kernelspec": {
   "display_name": "Python 3",
   "language": "python",
   "name": "python3"
  },
  "language_info": {
   "codemirror_mode": {
    "name": "ipython",
    "version": 3
   },
   "file_extension": ".py",
   "mimetype": "text/x-python",
   "name": "python",
   "nbconvert_exporter": "python",
   "pygments_lexer": "ipython3",
   "version": "3.10.6"
  },
  "orig_nbformat": 4
 },
 "nbformat": 4,
 "nbformat_minor": 2
}
