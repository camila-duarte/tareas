{
 "cells": [
  {
   "attachments": {},
   "cell_type": "markdown",
   "metadata": {},
   "source": [
    "# Ejercicio 1\n",
    "\n",
    "* dx/dt = (2t - x)^2\n",
    "  \n",
    "* valor inicial: x(0) = 2\n",
    "  \n",
    "* aproximar a dt_1 = 0.5 y dt_2 = 0.1"
   ]
  },
  {
   "cell_type": "code",
   "execution_count": null,
   "metadata": {},
   "outputs": [],
   "source": [
    "import matplotlib.pyplot as plt\n",
    "\n",
    "\n",
    "x_axis = []\n",
    "y_axis = []\n",
    "dt = 0.125\n",
    "\n",
    "x = 1\n",
    "\n",
    "t = 0\n",
    "\n",
    "\n",
    "for contador in range(10):\n",
    "    x_axis.append(t)\n",
    "    y_axis.append(x)\n",
    "    x = x + dt*(t - x)\n",
    "    t = t + dt\n",
    "    contador = contador + 0.1\n",
    "    print(x)\n",
    "    print(t)\n",
    "\n",
    "\n",
    "plt.xlabel(\"Tiempo\")\n",
    "plt.ylabel(\"x(t)\")\n",
    "plt.plot(x_axis, y_axis)\n",
    "plt.show()"
   ]
  }
 ],
 "metadata": {
  "language_info": {
   "name": "python"
  },
  "orig_nbformat": 4
 },
 "nbformat": 4,
 "nbformat_minor": 2
}
