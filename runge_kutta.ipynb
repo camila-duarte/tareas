{
 "cells": [
  {
   "attachments": {},
   "cell_type": "markdown",
   "metadata": {},
   "source": [
    "Resuelva los siguientes problemas de EDO utilizando el método RK4 implementado:\n",
    "> a) dy/dt = -2ty, y(0) = 1, sobre el intervalo t = 0 a t = 5\n",
    "\n",
    "> b) dy/dt = t^2 - y, y(0) = 0, en el intervalo t = 0 a t = 4\n",
    "\n",
    "> c) d^2y/dt^2 + 2dy/dt + 2y = 0, y(0) = 1, dy/dt(0) = -1, en el intervalo t = 0 a t = 10\n",
    "\n",
    "> d) dy/dt = cos(t) + y, y(0) = 0 Intervalo: t = 0 a t = 6\n",
    "\n",
    "> e) dy/dt = e^(-t) - y, y(0) = 1,   Intervalo: t = 0 a t = 3\n",
    "\n",
    "> f) d^2y/dt^2 - 2dy/dt + 2y = t, y(0) = 1, dy/dt(0) = -1 Intervalo: t = 0 a t = 5\n",
    "\n",
    "> g) dy/dt = 1 + t + y^2, y(0) = 0,  Intervalo: t = 0 a t = 4\n",
    "\n",
    "> h) d^2y/dt^2 - 4dy/dt + 4y = e^(-t), y(0) = 0, dy/dt(0) = 1  Intervalo: t = 0 a t = 5\n",
    "\n",
    "> i) dy/dt = sen(t) - y/t, y(1) = 1,Intervalo: t = 1 a t = 6\n",
    "\n",
    "> j) d^2y/dt^2 + 4y = 0, y(0) = 0, dy/dt(0) = 2 Intervalo: t = 0 a t = 8"
   ]
  },
  {
   "cell_type": "code",
   "execution_count": null,
   "metadata": {},
   "outputs": [],
   "source": [
    "from scipy.integrate import odeint\n",
    "import math  # Usar en caso te tener alguna funcion trigonometrica\n",
    "\n",
    "\n",
    "# Introducir la ecuacion\n",
    "def f(t, y):\n",
    "    return -2*t*y\n",
    "\n",
    "\n",
    "# Introducir los valores iniciales\n",
    "def introducir_variables():\n",
    "    global tk, dt, yk, n, t, y, y_inicial\n",
    "    # tk <- \n",
    "    tk = float(input(\"Ingrese el tiempo inicial: \"))\n",
    "    dt = float(input(\"Ingrese la dt: \"))\n",
    "    yk = float(input(\"Ingrese la condicion inicial: \"))\n",
    "    n = int(input(\"Ingrese la cantidad de pasos: \"))\n",
    "    t = 0\n",
    "    y = 0\n",
    "    y_inicial = yk\n",
    "    return tk, dt, yk, n, t, y, y_inicial\n",
    "\n",
    "\n",
    "introducir_variables()\n",
    "\n",
    "\n",
    "f(t, y)\n",
    "\n",
    "# Siendo h el iterador que va a contar los pasos y\n",
    "# siendo n la cantidad de pasos que debe realizar\n",
    "for h in range(n):\n",
    "    k1 = dt * f(tk, yk)\n",
    "\n",
    "    k2 = dt * f(tk + dt/2, yk + k1/2)\n",
    "\n",
    "    k3 = dt * f(tk + dt/2, yk + k2/2)\n",
    "\n",
    "    k4 = dt * f(tk + dt, yk + k3)\n",
    "\n",
    "    y_resultado = yk + ((k1 + (2 * k2) + (2 * k3) + k4) / 6)\n",
    "\n",
    "    yk = y_resultado\n",
    "\n",
    "    tk = tk + dt\n",
    "\n",
    "    print(y_resultado)\n",
    "\n",
    "# Para comparar los resultados\n",
    "resultado = odeint(f, yk, [tk, n])[-1]\n",
    "print(resultado)"
   ]
  },
  {
   "attachments": {},
   "cell_type": "markdown",
   "metadata": {},
   "source": []
  },
  {
   "attachments": {},
   "cell_type": "markdown",
   "metadata": {},
   "source": [
    "# `Analisis y conclusion`\n",
    "La regla de Runge-Kutta es un método numérico utilizado para resolver ecuaciones diferenciales. A diferencia del método de Euler, que avanza solo un paso, la regla de Runge-Kutta utiliza información de varios pasos anteriores para calcular el nuevo valor. Esto permite obtener una aproximación más precisa de la solución de la ecuacion diferencial.\n",
    "\n",
    "Al ajustar el tamaño de los pasos de tiempo, podemos aumentar la precisión de la solución numérica. Al disminuir el tamaño del paso delta t, realizamos más iteraciones en el mismo intervalo de tiempo, mejorando así la aproximación del comportamiento de la solución. Esta propiedad también se observa en el método de Euler.\n",
    "\n",
    "Sin embargo, es importante tener en cuenta que la regla de Runge-Kutta es computacionalmente más costosa en comparación con otros métodos, la cual resulta ser una de sus limitaciones. Al trabajar con pasos de tiempo más pequeños, se requiere un mayor número de cálculos. A pesar de este costo computacional adicional, la ventaja es que obtenemos resultados más precisos.\n",
    "\n",
    "A pesar de estas consideraciones, la regla de Runge-Kutta ofrece varias ventajas en la resolución numérica de las ecuaciones diferenciales ordinarias . Proporciona resultados cercanos a la solución real, lo cual se traduce en una alta precisión."
   ]
  }
 ],
 "metadata": {
  "language_info": {
   "name": "python"
  },
  "orig_nbformat": 4
 },
 "nbformat": 4,
 "nbformat_minor": 2
}
